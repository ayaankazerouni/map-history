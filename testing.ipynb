{
 "cells": [
  {
   "cell_type": "code",
   "execution_count": 1,
   "metadata": {},
   "outputs": [
    {
     "name": "stderr",
     "output_type": "stream",
     "text": [
      "/Users/ayaankazerouni/Developer/world-events/events.py:24: SyntaxWarning: invalid escape sequence '\\d'\n",
      "  EVENT_RE = re.compile('^(\\d+)( BC)* –')\n",
      "/Users/ayaankazerouni/Developer/world-events/events.py:107: SyntaxWarning: invalid escape sequence '\\|'\n",
      "  COORD_RE = re.compile('coord\\|(\\d+\\|\\d+\\|\\d+\\|[N|S])\\|(\\d+\\|\\d+\\|\\d+\\|[E|W])')\n"
     ]
    }
   ],
   "source": [
    "from events import *"
   ]
  },
  {
   "cell_type": "code",
   "execution_count": 2,
   "metadata": {},
   "outputs": [
    {
     "name": "stdout",
     "output_type": "stream",
     "text": [
      "Page not found: Cranbrook/Canadian_Rockies_International_Airport. Failed to get coordinates.\n",
      "Page not found: British_Eagle_International_Airlines_Flight_802/6. Failed to get coordinates.\n"
     ]
    }
   ],
   "source": [
    "wiki_calls, events = 0, []\n",
    "\n",
    "for i in range(1, MONTHS_WITH_DAYS['February'] + 1):\n",
    "    calls, e = get_events_on_day('February', i)\n",
    "    wiki_calls += calls\n",
    "    events.extend(e)"
   ]
  },
  {
   "cell_type": "code",
   "execution_count": 3,
   "metadata": {},
   "outputs": [],
   "source": [
    "import json\n",
    "import subprocess "
   ]
  },
  {
   "cell_type": "code",
   "execution_count": 4,
   "metadata": {},
   "outputs": [
    {
     "data": {
      "text/plain": [
       "CompletedProcess(args='pbcopy', returncode=0)"
      ]
     },
     "execution_count": 4,
     "metadata": {},
     "output_type": "execute_result"
    }
   ],
   "source": [
    "subprocess.run(\"pbcopy\", text=True, input=json.dumps(events))"
   ]
  }
 ],
 "metadata": {
  "kernelspec": {
   "display_name": "map-history-xxiaY8TP",
   "language": "python",
   "name": "python3"
  },
  "language_info": {
   "codemirror_mode": {
    "name": "ipython",
    "version": 3
   },
   "file_extension": ".py",
   "mimetype": "text/x-python",
   "name": "python",
   "nbconvert_exporter": "python",
   "pygments_lexer": "ipython3",
   "version": "3.12.2"
  }
 },
 "nbformat": 4,
 "nbformat_minor": 2
}
