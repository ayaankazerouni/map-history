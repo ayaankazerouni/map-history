{
 "cells": [
  {
   "cell_type": "code",
   "execution_count": 1,
   "metadata": {},
   "outputs": [],
   "source": [
    "from events import *\n",
    "from time import sleep\n",
    "\n",
    "import json"
   ]
  },
  {
   "cell_type": "code",
   "execution_count": 2,
   "metadata": {},
   "outputs": [],
   "source": [
    "def events_in_month(month):\n",
    "    print(f\"Getting events for {month}...\")\n",
    "    events = []\n",
    "    for i in range(1, MONTHS_WITH_DAYS[month] + 1):\n",
    "        print(f\"\\t{month} {i}...\", end=\" \")\n",
    "        calls, e = get_events_on_day(month, i)\n",
    "        print(f\"{calls} calls, {len(e)} events\")\n",
    "        events.extend(e)\n",
    "\n",
    "    # Sleep for a bit to avoid hitting the wiki too hard \n",
    "    sleep(1)\n",
    "\n",
    "    return events"
   ]
  },
  {
   "cell_type": "code",
   "execution_count": null,
   "metadata": {},
   "outputs": [],
   "source": [
    "for month in MONTHS_WITH_DAYS:\n",
    "    events = events_in_month(month)\n",
    "    json.dump(events, open(f'{month}.json', 'w'))"
   ]
  }
 ],
 "metadata": {
  "kernelspec": {
   "display_name": "venv",
   "language": "python",
   "name": "python3"
  },
  "language_info": {
   "codemirror_mode": {
    "name": "ipython",
    "version": 3
   },
   "file_extension": ".py",
   "mimetype": "text/x-python",
   "name": "python",
   "nbconvert_exporter": "python",
   "pygments_lexer": "ipython3",
   "version": "3.12.6"
  }
 },
 "nbformat": 4,
 "nbformat_minor": 2
}
